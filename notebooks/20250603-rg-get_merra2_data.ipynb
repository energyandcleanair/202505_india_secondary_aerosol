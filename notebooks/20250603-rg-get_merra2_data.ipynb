{
 "cells": [
  {
   "cell_type": "code",
   "execution_count": 1,
   "id": "648d9821",
   "metadata": {},
   "outputs": [],
   "source": [
    "import os\n",
    "from datetime import datetime, timedelta\n",
    "import rioxarray as rxr\n",
    "import xarray as xr\n",
    "import rasterio as rio\n",
    "\n",
    "import get_data_merra\n",
    "\n",
    "dl_data_dir ='/media/work/T7/merra2-M2T1NXAER-V5.12.4'\n",
    "int_data_dir = '../data/interim/merra2'"
   ]
  },
  {
   "cell_type": "markdown",
   "id": "308afbd1",
   "metadata": {},
   "source": [
    "### Download data"
   ]
  },
  {
   "cell_type": "code",
   "execution_count": 2,
   "id": "d5795e4e",
   "metadata": {},
   "outputs": [],
   "source": [
    "get_data_merra.get_data(product = \"M2T1NXAER\", \n",
    "                        output_dir=dl_data_dir,\n",
    "                        start_date = \"2024-01-01\",\n",
    "                        end_date = \"2024-12-31\"\n",
    "                        )"
   ]
  },
  {
   "cell_type": "markdown",
   "id": "9c887ca5",
   "metadata": {},
   "source": [
    "### Get annual mean data for India"
   ]
  },
  {
   "cell_type": "code",
   "execution_count": 3,
   "id": "1f5f9ab8",
   "metadata": {},
   "outputs": [],
   "source": [
    "# Read all the files, crop India, calculate the average over time, and save to a file for easier access\n",
    "os.makedirs(int_data_dir, exist_ok=True)\n",
    "\n",
    "filename = 'M2T1NXAER_India_2024.nc'\n",
    "\n",
    "if not os.path.exists(os.path.join(int_data_dir, filename)):\n",
    "    # find all data files in the directory\n",
    "    files = [f for f in os.listdir(dl_data_dir) if f.endswith('.nc4')]\n",
    "    files.sort()\n",
    "    files = [os.path.join(dl_data_dir, f) for f in files]\n",
    "\n",
    "    # open the dataset using xarray\n",
    "    ds = xr.open_mfdataset(files, combine='by_coords')\n",
    "\n",
    "    # crop India\n",
    "    ds = ds.sel(lat=slice(3, 40), lon=slice(64,99))\n",
    "\n",
    "    # take average over time\n",
    "    ds = ds.mean(dim='time', keep_attrs=True)\n",
    "\n",
    "    # save to file\n",
    "    ds.to_netcdf(os.path.join(int_data_dir, filename))\n",
    "    print(f\"Saved {filename} to {int_data_dir}.\")"
   ]
  },
  {
   "cell_type": "markdown",
   "id": "8c5ad672",
   "metadata": {},
   "source": [
    "## Calculate PM2.5"
   ]
  },
  {
   "cell_type": "code",
   "execution_count": 4,
   "id": "2dcac1ec",
   "metadata": {},
   "outputs": [],
   "source": [
    "# read the saved file and write CRS\n",
    "ds = xr.open_dataset(os.path.join(int_data_dir, filename))\n",
    "ds = ds.rio.write_crs(\"EPSG:4326\")\n",
    "\n",
    "# calculate PM2.5 as instructed in FAQ (https://gmao.gsfc.nasa.gov/reanalysis/MERRA-2/FAQ/)\n",
    "PM25 = ds.DUSMASS25 + ds.OCSMASS+ ds.BCSMASS + ds.SSSMASS25 + ds.SO4SMASS* (132.14/96.06)"
   ]
  },
  {
   "cell_type": "code",
   "execution_count": 5,
   "id": "998f16da",
   "metadata": {},
   "outputs": [],
   "source": [
    "# convert from kg/m3 to ug/m3\n",
    "PM25 = PM25 * 1e9\n",
    "PM25.name = 'PM25'\n",
    "PM25.attrs['units'] = 'ug/m3'\n",
    "\n",
    "for var in ['DUSMASS25', 'OCSMASS', 'BCSMASS', 'SSSMASS25', 'SO4SMASS']:\n",
    "    ds[var] = ds[var] * 1e9 \n",
    "    ds[var].attrs['units'] = 'ug/m3'\n",
    "\n",
    "\n",
    "# also create variable for sulfate aerosol (ammonium sulfate)\n",
    "sulfate = ds.SO4SMASS * (132.14/96.06)"
   ]
  },
  {
   "cell_type": "markdown",
   "id": "9d7cfcd3",
   "metadata": {},
   "source": [
    "## Save to file"
   ]
  },
  {
   "cell_type": "code",
   "execution_count": 6,
   "id": "eb4e8fe5",
   "metadata": {},
   "outputs": [],
   "source": [
    "out_data_dir = \"../data/result/merra/surf_aerosol_massconc\"\n",
    "os.makedirs(out_data_dir, exist_ok=True)"
   ]
  },
  {
   "cell_type": "code",
   "execution_count": 7,
   "id": "1258cac6",
   "metadata": {},
   "outputs": [
    {
     "name": "stdout",
     "output_type": "stream",
     "text": [
      "Saved PM2.5 annual mean to ../data/result/merra/surf_aerosol_massconc/Total_PM25_2024.tif\n",
      "Saved sulfate aerosol annual mean to ../data/result/merra/surf_aerosol_massconc/Sulfate_aerosol_2024.tif\n",
      "Saved DUSMASS25 annual mean to ../data/result/merra/surf_aerosol_massconc/Dust_PM25_2024.tif\n",
      "Saved OCSMASS annual mean to ../data/result/merra/surf_aerosol_massconc/Organic_carbon_2024.tif\n",
      "Saved BCSMASS annual mean to ../data/result/merra/surf_aerosol_massconc/Black_carbon_2024.tif\n",
      "Saved SSSMASS25 annual mean to ../data/result/merra/surf_aerosol_massconc/Seasalt_PM25_2024.tif\n"
     ]
    }
   ],
   "source": [
    "filanames = {\n",
    "    'PM25': 'Total_PM25',\n",
    "    'DUSMASS25': 'Dust_PM25',\n",
    "    'OCSMASS': 'Organic_carbon',\n",
    "    'BCSMASS': 'Black_carbon',\n",
    "    'SSSMASS25': 'Seasalt_PM25',\n",
    "    'sulfate': 'Sulfate_aerosol'\n",
    "}\n",
    "\n",
    "# save PM2.5 to a geotiff file\n",
    "out_file = os.path.join(out_data_dir, filanames['PM25'] + '_2024.tif')\n",
    "PM25 = PM25.rio.set_spatial_dims(x_dim=\"lon\", y_dim=\"lat\")\n",
    "PM25.rio.to_raster(out_file)\n",
    "print(f\"Saved PM2.5 annual mean to {out_file}\")\n",
    "\n",
    "# save sulfate aerosol to a geotiff file\n",
    "out_file = os.path.join(out_data_dir, filanames['sulfate'] + '_2024.tif')\n",
    "sulfate = sulfate.rio.set_spatial_dims(x_dim=\"lon\", y_dim=\"lat\")\n",
    "sulfate.rio.to_raster(out_file)\n",
    "print(f\"Saved sulfate aerosol annual mean to {out_file}\")\n",
    "\n",
    "# save each variable in a separate geotiff file\n",
    "for var in ['DUSMASS25', 'OCSMASS', 'BCSMASS', 'SSSMASS25']:\n",
    "    # map variable names to long names for output files\n",
    "    out_file = os.path.join(out_data_dir, filanames[var] + '_2024.tif')\n",
    "    \n",
    "    da = ds[var].rio.set_spatial_dims(x_dim=\"lon\", y_dim=\"lat\")\n",
    "    da.rio.to_raster(out_file)\n",
    "\n",
    "    print(f\"Saved {var} annual mean to {out_file}\")"
   ]
  },
  {
   "cell_type": "markdown",
   "id": "83ff0737",
   "metadata": {},
   "source": [
    "## Fractions"
   ]
  },
  {
   "cell_type": "code",
   "execution_count": null,
   "id": "7477cc09",
   "metadata": {},
   "outputs": [],
   "source": [
    "out_data_dir = \"../data/result/merra/surf_aerosol_fractions\""
   ]
  },
  {
   "cell_type": "code",
   "execution_count": 9,
   "id": "0ab86b2f",
   "metadata": {},
   "outputs": [
    {
     "name": "stdout",
     "output_type": "stream",
     "text": [
      "Saved sulfate fraction annual mean to ../data/result/merra/surf_aerosol_massconc/Sulfate_fraction_2024.tif\n"
     ]
    }
   ],
   "source": [
    "# calculate fraction of sulfate aerosol from total PM2.5\n",
    "\n",
    "sulfate_fraction = sulfate / PM25 * 100\n",
    "sulfate_fraction.name = 'Sulfate_precentage'\n",
    "sulfate_fraction.attrs['units'] = '%'\n",
    "\n",
    "# save sulfate fraction to a geotiff file\n",
    "out_file = os.path.join(out_data_dir, 'Sulfate_fraction_2024.tif')\n",
    "sulfate_fraction = sulfate_fraction.rio.set_spatial_dims(x_dim=\"lon\", y_dim=\"lat\")\n",
    "sulfate_fraction.rio.to_raster(out_file)\n",
    "print(f\"Saved sulfate fraction annual mean to {out_file}\")\n"
   ]
  }
 ],
 "metadata": {
  "kernelspec": {
   "display_name": ".venv",
   "language": "python",
   "name": "python3"
  },
  "language_info": {
   "codemirror_mode": {
    "name": "ipython",
    "version": 3
   },
   "file_extension": ".py",
   "mimetype": "text/x-python",
   "name": "python",
   "nbconvert_exporter": "python",
   "pygments_lexer": "ipython3",
   "version": "3.12.3"
  }
 },
 "nbformat": 4,
 "nbformat_minor": 5
}
